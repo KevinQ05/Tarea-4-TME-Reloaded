{
 "cells": [
  {
   "cell_type": "code",
   "execution_count": 1,
   "metadata": {},
   "outputs": [
    {
     "name": "stderr",
     "output_type": "stream",
     "text": [
      "d:\\Documentos\\Tarea 4 TME Reloaded\\Tarea-4-TME-Reloaded\\simplex_tme.py:72: RuntimeWarning: divide by zero encountered in divide\n",
      "  cocientes_bY = np.divide(b_barra[:, None], Y)\n"
     ]
    },
    {
     "data": {
      "text/plain": [
       "{'iter': IterationResult(z=3650.0, x=array([[ 50.],\n",
       "        [200.],\n",
       "        [ 50.],\n",
       "        [ 50.],\n",
       "        [150.],\n",
       "        [ 50.],\n",
       "        [ 50.],\n",
       "        [ 50.],\n",
       "        [  0.],\n",
       "        [  0.],\n",
       "        [  0.],\n",
       "        [  0.],\n",
       "        [  0.],\n",
       "        [  0.]]), c_red=array([[-17.,  -5.,  -2.,  -1.,  -3.,  -4.]]), cocientes_bY=array([[ inf,  inf,  inf,  inf,  50.,  inf],\n",
       "        [200.,  inf,  inf,  inf,  inf,  inf],\n",
       "        [ inf,  50.,  inf,  inf,  inf,  inf],\n",
       "        [ inf,  inf,  50.,  inf,  inf,  inf],\n",
       "        [ inf,  inf,  inf,  inf, 150.,  inf],\n",
       "        [ inf,  inf,  inf,  50.,  inf,  inf],\n",
       "        [ 50.,  50.,  50.,  50.,  inf,  50.],\n",
       "        [ inf,  inf,  inf,  inf,  inf,  50.]])),\n",
       " 'basis': SimplexBasis(c=array([[17.],\n",
       "        [ 0.],\n",
       "        [12.],\n",
       "        [15.],\n",
       "        [ 0.],\n",
       "        [16.],\n",
       "        [ 0.],\n",
       "        [13.],\n",
       "        [ 0.],\n",
       "        [ 0.],\n",
       "        [ 0.],\n",
       "        [ 0.],\n",
       "        [20.],\n",
       "        [ 0.],\n",
       "        [18.]]), A=array([[1., 1., 1., 1., 0., 1., 0., 1., 0., 0., 0., 0., 1., 0.],\n",
       "        [0., 1., 0., 0., 0., 0., 0., 0., 1., 0., 0., 0., 0., 0.],\n",
       "        [0., 0., 1., 0., 0., 0., 0., 0., 0., 1., 0., 0., 0., 0.],\n",
       "        [0., 0., 0., 1., 0., 0., 0., 0., 0., 0., 1., 0., 0., 0.],\n",
       "        [0., 0., 0., 0., 1., 0., 0., 0., 0., 0., 0., 0., 1., 0.],\n",
       "        [0., 0., 0., 0., 0., 1., 0., 0., 0., 0., 0., 1., 0., 0.],\n",
       "        [1., 0., 0., 0., 0., 0., 1., 0., 0., 0., 0., 0., 0., 0.],\n",
       "        [0., 0., 0., 0., 0., 0., 0., 1., 0., 0., 0., 0., 0., 1.]]), b=array([450, 200,  50,  50, 150,  50, 100,  50]), variable_loc=[4, 15, 0, 1, 11, 3, 13, 5, 8, 9, 10, 12, 2, 14, 6])}"
      ]
     },
     "execution_count": 1,
     "metadata": {},
     "output_type": "execute_result"
    }
   ],
   "source": [
    "import numpy as np\n",
    "from simplex_tme import metodo_simplex_talegon\n",
    "\n",
    "c = np.array([12, 15, 20, 16, 17, 13, 18])\n",
    "A_eq = np.array([[1, 1, 1, 1, 1, 1, 1]])\n",
    "b_eq = np.array([450])\n",
    "bounds = [(0, 200), (0, 50), (0, 50), (0,150), (0,50), (0, 100), (0, 50)]\n",
    "\n",
    "res = metodo_simplex_talegon(c=c, A_eq=A_eq, b_eq=b_eq, bounds=bounds)\n",
    "\n",
    "res"
   ]
  }
 ],
 "metadata": {
  "kernelspec": {
   "display_name": "Python 3",
   "language": "python",
   "name": "python3"
  },
  "language_info": {
   "codemirror_mode": {
    "name": "ipython",
    "version": 3
   },
   "file_extension": ".py",
   "mimetype": "text/x-python",
   "name": "python",
   "nbconvert_exporter": "python",
   "pygments_lexer": "ipython3",
   "version": "3.11.9"
  }
 },
 "nbformat": 4,
 "nbformat_minor": 2
}
